{
 "cells": [
  {
   "cell_type": "markdown",
   "metadata": {},
   "source": [
    "## 1. Importing libraries"
   ]
  },
  {
   "cell_type": "code",
   "execution_count": 1,
   "metadata": {},
   "outputs": [
    {
     "name": "stderr",
     "output_type": "stream",
     "text": [
      "Using TensorFlow backend.\n"
     ]
    }
   ],
   "source": [
    "import keras\n",
    "keras.__version__\n",
    "from keras.preprocessing.image import ImageDataGenerator\n",
    "from IPython.core.interactiveshell import InteractiveShell\n",
    "InteractiveShell.ast_node_interactivity='all'"
   ]
  },
  {
   "cell_type": "code",
   "execution_count": 2,
   "metadata": {},
   "outputs": [],
   "source": [
    "import pandas as pd\n",
    "import numpy as np\n",
    "import os\n",
    "import cv2\n",
    "import random\n",
    "import re\n",
    "\n",
    "import tensorflow as tf\n",
    "from tensorflow import keras\n",
    "from tensorflow.keras.preprocessing.image import ImageDataGenerator\n",
    "from tensorflow.keras.layers import Dense, Dropout, Flatten, Activation\n",
    "from tensorflow.keras.models import Sequential\n",
    "from tensorflow.keras.callbacks import EarlyStopping, ModelCheckpoint\n",
    "from tensorflow.keras.optimizers import Adam\n",
    "\n",
    "from keras.preprocessing import sequence\n",
    "from keras.layers import TimeDistributed\n",
    "from keras.layers import AveragePooling1D\n",
    "from keras.layers import Conv1D\n",
    "from keras.models import load_model\n",
    "from keras.layers import Input, Lambda, Conv2D, MaxPooling2D\n",
    "from sklearn.model_selection import train_test_split\n",
    "from keras.callbacks import TensorBoard,CSVLogger\n",
    "from sklearn.metrics import roc_auc_score\n",
    "from sklearn.metrics import classification_report\n",
    "\n",
    "from sklearn.utils import shuffle\n",
    "from sklearn.metrics import confusion_matrix\n",
    "from sklearn.model_selection import train_test_split\n",
    "import itertools\n",
    "import shutil\n",
    "import matplotlib.pyplot as plt\n",
    "%matplotlib inline\n",
    "\n",
    "from numpy.random import seed\n",
    "seed(101)\n",
    "from tensorflow import set_random_seed\n",
    "set_random_seed(101)"
   ]
  },
  {
   "cell_type": "markdown",
   "metadata": {},
   "source": [
    "## 2. Sampling the data for balanced classes and splitting into train and validation"
   ]
  },
  {
   "cell_type": "code",
   "execution_count": 6,
   "metadata": {},
   "outputs": [],
   "source": [
    "train_dir=\"C:\\\\Users\\\\shett\\\\Cancer_data\\\\train_images\\\\\""
   ]
  },
  {
   "cell_type": "code",
   "execution_count": 7,
   "metadata": {},
   "outputs": [],
   "source": [
    "validation_dir=\"C:\\\\Users\\\\shett\\\\Cancer_data\\\\test_images\\\\\""
   ]
  },
  {
   "cell_type": "code",
   "execution_count": 8,
   "metadata": {},
   "outputs": [],
   "source": [
    "df=pd.read_csv(\"C:\\\\Users\\\\shett\\\\Cancer_data\\\\train_labels\\\\train_labels.csv\")"
   ]
  },
  {
   "cell_type": "code",
   "execution_count": 9,
   "metadata": {},
   "outputs": [
    {
     "data": {
      "text/html": [
       "<div>\n",
       "<style scoped>\n",
       "    .dataframe tbody tr th:only-of-type {\n",
       "        vertical-align: middle;\n",
       "    }\n",
       "\n",
       "    .dataframe tbody tr th {\n",
       "        vertical-align: top;\n",
       "    }\n",
       "\n",
       "    .dataframe thead th {\n",
       "        text-align: right;\n",
       "    }\n",
       "</style>\n",
       "<table border=\"1\" class=\"dataframe\">\n",
       "  <thead>\n",
       "    <tr style=\"text-align: right;\">\n",
       "      <th></th>\n",
       "      <th>id</th>\n",
       "      <th>label</th>\n",
       "    </tr>\n",
       "  </thead>\n",
       "  <tbody>\n",
       "    <tr>\n",
       "      <th>0</th>\n",
       "      <td>f38a6374c348f90b587e046aac6079959adf3835</td>\n",
       "      <td>0</td>\n",
       "    </tr>\n",
       "    <tr>\n",
       "      <th>1</th>\n",
       "      <td>c18f2d887b7ae4f6742ee445113fa1aef383ed77</td>\n",
       "      <td>1</td>\n",
       "    </tr>\n",
       "    <tr>\n",
       "      <th>2</th>\n",
       "      <td>755db6279dae599ebb4d39a9123cce439965282d</td>\n",
       "      <td>0</td>\n",
       "    </tr>\n",
       "    <tr>\n",
       "      <th>3</th>\n",
       "      <td>bc3f0c64fb968ff4a8bd33af6971ecae77c75e08</td>\n",
       "      <td>0</td>\n",
       "    </tr>\n",
       "    <tr>\n",
       "      <th>4</th>\n",
       "      <td>068aba587a4950175d04c680d38943fd488d6a9d</td>\n",
       "      <td>0</td>\n",
       "    </tr>\n",
       "  </tbody>\n",
       "</table>\n",
       "</div>"
      ],
      "text/plain": [
       "                                         id  label\n",
       "0  f38a6374c348f90b587e046aac6079959adf3835      0\n",
       "1  c18f2d887b7ae4f6742ee445113fa1aef383ed77      1\n",
       "2  755db6279dae599ebb4d39a9123cce439965282d      0\n",
       "3  bc3f0c64fb968ff4a8bd33af6971ecae77c75e08      0\n",
       "4  068aba587a4950175d04c680d38943fd488d6a9d      0"
      ]
     },
     "execution_count": 9,
     "metadata": {},
     "output_type": "execute_result"
    }
   ],
   "source": [
    "df.head(5)"
   ]
  },
  {
   "cell_type": "code",
   "execution_count": 10,
   "metadata": {},
   "outputs": [],
   "source": [
    "not_tumor=df[df.label==0].sample(85000)\n",
    "tumor=df[df.label==1].sample(85000)"
   ]
  },
  {
   "cell_type": "code",
   "execution_count": 11,
   "metadata": {},
   "outputs": [
    {
     "data": {
      "text/plain": [
       "(85000, 2)"
      ]
     },
     "execution_count": 11,
     "metadata": {},
     "output_type": "execute_result"
    },
    {
     "data": {
      "text/plain": [
       "(85000, 2)"
      ]
     },
     "execution_count": 11,
     "metadata": {},
     "output_type": "execute_result"
    }
   ],
   "source": [
    "not_tumor.shape\n",
    "tumor.shape"
   ]
  },
  {
   "cell_type": "code",
   "execution_count": 12,
   "metadata": {},
   "outputs": [],
   "source": [
    "new_df=pd.concat([not_tumor,tumor],axis=0).reset_index(drop=True)"
   ]
  },
  {
   "cell_type": "code",
   "execution_count": 13,
   "metadata": {},
   "outputs": [
    {
     "data": {
      "text/plain": [
       "(170000, 2)"
      ]
     },
     "execution_count": 13,
     "metadata": {},
     "output_type": "execute_result"
    }
   ],
   "source": [
    "new_df=shuffle(new_df)\n",
    "new_df.shape"
   ]
  },
  {
   "cell_type": "code",
   "execution_count": 14,
   "metadata": {},
   "outputs": [
    {
     "data": {
      "text/html": [
       "<div>\n",
       "<style scoped>\n",
       "    .dataframe tbody tr th:only-of-type {\n",
       "        vertical-align: middle;\n",
       "    }\n",
       "\n",
       "    .dataframe tbody tr th {\n",
       "        vertical-align: top;\n",
       "    }\n",
       "\n",
       "    .dataframe thead th {\n",
       "        text-align: right;\n",
       "    }\n",
       "</style>\n",
       "<table border=\"1\" class=\"dataframe\">\n",
       "  <thead>\n",
       "    <tr style=\"text-align: right;\">\n",
       "      <th></th>\n",
       "      <th>id</th>\n",
       "      <th>label</th>\n",
       "    </tr>\n",
       "  </thead>\n",
       "  <tbody>\n",
       "    <tr>\n",
       "      <th>168933</th>\n",
       "      <td>05c8cad3a5472ff1d25b00248c143efa245b44cb</td>\n",
       "      <td>1</td>\n",
       "    </tr>\n",
       "    <tr>\n",
       "      <th>46832</th>\n",
       "      <td>f4eccf52c1b36088483fe1b77cdc8dba8b46fdbc</td>\n",
       "      <td>0</td>\n",
       "    </tr>\n",
       "    <tr>\n",
       "      <th>105427</th>\n",
       "      <td>f5e00dfa8d9cd8bb3a21b336f1c1e32177ed4172</td>\n",
       "      <td>1</td>\n",
       "    </tr>\n",
       "    <tr>\n",
       "      <th>131025</th>\n",
       "      <td>b44c61d9b5d3b651eb6ac570bc1b3f8352bd6fc0</td>\n",
       "      <td>1</td>\n",
       "    </tr>\n",
       "    <tr>\n",
       "      <th>17640</th>\n",
       "      <td>1e46e949f51c3adbe0592f69b5f344e3dddc2dfb</td>\n",
       "      <td>0</td>\n",
       "    </tr>\n",
       "  </tbody>\n",
       "</table>\n",
       "</div>"
      ],
      "text/plain": [
       "                                              id  label\n",
       "168933  05c8cad3a5472ff1d25b00248c143efa245b44cb      1\n",
       "46832   f4eccf52c1b36088483fe1b77cdc8dba8b46fdbc      0\n",
       "105427  f5e00dfa8d9cd8bb3a21b336f1c1e32177ed4172      1\n",
       "131025  b44c61d9b5d3b651eb6ac570bc1b3f8352bd6fc0      1\n",
       "17640   1e46e949f51c3adbe0592f69b5f344e3dddc2dfb      0"
      ]
     },
     "execution_count": 14,
     "metadata": {},
     "output_type": "execute_result"
    }
   ],
   "source": [
    "new_df.head()"
   ]
  },
  {
   "cell_type": "code",
   "execution_count": 15,
   "metadata": {},
   "outputs": [],
   "source": [
    "train_data,val_data=train_test_split(new_df, test_size=0.15, random_state=31, stratify=new_df.label) #Stratify makes sure that the same proportion of labels is maintained in test as well as validation"
   ]
  },
  {
   "cell_type": "code",
   "execution_count": 16,
   "metadata": {},
   "outputs": [
    {
     "data": {
      "text/plain": [
       "(144500, 2)"
      ]
     },
     "execution_count": 16,
     "metadata": {},
     "output_type": "execute_result"
    },
    {
     "data": {
      "text/plain": [
       "(25500, 2)"
      ]
     },
     "execution_count": 16,
     "metadata": {},
     "output_type": "execute_result"
    }
   ],
   "source": [
    "train_data.shape\n",
    "val_data.shape"
   ]
  },
  {
   "cell_type": "code",
   "execution_count": null,
   "metadata": {},
   "outputs": [],
   "source": []
  },
  {
   "cell_type": "markdown",
   "metadata": {},
   "source": [
    "## 3. Creating directories for training and validation"
   ]
  },
  {
   "cell_type": "code",
   "execution_count": null,
   "metadata": {},
   "outputs": [],
   "source": [
    "root=\"C:\\\\Users\\\\shett\\Cancer_data\"\n",
    "\n",
    "train_directory = os.path.join(root, 'train_images')\n",
    "os.mkdir(train_directory)\n",
    "\n",
    "val_directory = os.path.join(root, 'val_images')\n",
    "os.mkdir(val_directory)\n",
    "\n",
    "\n",
    "#For training images\n",
    "not_tumor = os.path.join(train_directory, 'not_tumor')\n",
    "os.mkdir(not_tumor)\n",
    "tumor = os.path.join(train_directory, 'tumor')\n",
    "os.mkdir(tumor)\n",
    "\n",
    "\n",
    "#For validation images\n",
    "not_tumor2 = os.path.join(val_directory, 'not_tumor')\n",
    "os.mkdir(not_tumor2)\n",
    "tumor2 = os.path.join(val_directory, 'tumor')\n",
    "os.mkdir(tumor2)"
   ]
  },
  {
   "cell_type": "code",
   "execution_count": null,
   "metadata": {},
   "outputs": [],
   "source": [
    "os.listdir(val_directory)"
   ]
  },
  {
   "cell_type": "markdown",
   "metadata": {},
   "source": [
    "## 4. Move the images in the appropriate folders"
   ]
  },
  {
   "cell_type": "markdown",
   "metadata": {},
   "source": [
    "### To training folder"
   ]
  },
  {
   "cell_type": "code",
   "execution_count": 17,
   "metadata": {},
   "outputs": [
    {
     "data": {
      "text/html": [
       "<div>\n",
       "<style scoped>\n",
       "    .dataframe tbody tr th:only-of-type {\n",
       "        vertical-align: middle;\n",
       "    }\n",
       "\n",
       "    .dataframe tbody tr th {\n",
       "        vertical-align: top;\n",
       "    }\n",
       "\n",
       "    .dataframe thead th {\n",
       "        text-align: right;\n",
       "    }\n",
       "</style>\n",
       "<table border=\"1\" class=\"dataframe\">\n",
       "  <thead>\n",
       "    <tr style=\"text-align: right;\">\n",
       "      <th></th>\n",
       "      <th>id</th>\n",
       "      <th>label</th>\n",
       "    </tr>\n",
       "  </thead>\n",
       "  <tbody>\n",
       "    <tr>\n",
       "      <th>152379</th>\n",
       "      <td>556213f1169aa7cd1e2f023288009761ac017937</td>\n",
       "      <td>1</td>\n",
       "    </tr>\n",
       "    <tr>\n",
       "      <th>59020</th>\n",
       "      <td>ad6dece5fe00e8266ee5a695052a025245ffed90</td>\n",
       "      <td>0</td>\n",
       "    </tr>\n",
       "  </tbody>\n",
       "</table>\n",
       "</div>"
      ],
      "text/plain": [
       "                                              id  label\n",
       "152379  556213f1169aa7cd1e2f023288009761ac017937      1\n",
       "59020   ad6dece5fe00e8266ee5a695052a025245ffed90      0"
      ]
     },
     "execution_count": 17,
     "metadata": {},
     "output_type": "execute_result"
    }
   ],
   "source": [
    "train_data.head(2)"
   ]
  },
  {
   "cell_type": "markdown",
   "metadata": {},
   "source": [
    "#### Examples of tumor images"
   ]
  },
  {
   "cell_type": "code",
   "execution_count": 160,
   "metadata": {},
   "outputs": [
    {
     "data": {
      "text/plain": [
       "<matplotlib.image.AxesImage at 0x188015369b0>"
      ]
     },
     "execution_count": 160,
     "metadata": {},
     "output_type": "execute_result"
    },
    {
     "data": {
      "image/png": "[encoded data removed]",
      "text/plain": [
       "<Figure size 432x288 with 1 Axes>"
      ]
     },
     "metadata": {
      "needs_background": "light"
     },
     "output_type": "display_data"
    }
   ],
   "source": [
    "plt.imshow(plt.imread('{}\\\\tumor\\\\556213f1169aa7cd1e2f023288009761ac017937.tif'.format(train_directory)))"
   ]
  },
  {
   "cell_type": "code",
   "execution_count": 147,
   "metadata": {},
   "outputs": [
    {
     "data": {
      "text/plain": [
       "<matplotlib.image.AxesImage at 0x188012fa550>"
      ]
     },
     "execution_count": 147,
     "metadata": {},
     "output_type": "execute_result"
    },
    {
     "data": {
      "image/png": "[encoded data removed]",
      "text/plain": [
       "<Figure size 432x288 with 1 Axes>"
      ]
     },
     "metadata": {
      "needs_background": "light"
     },
     "output_type": "display_data"
    }
   ],
   "source": [
    "plt.imshow(plt.imread('{}\\\\tumor\\\\9e11790ecaae679d383bedbfcff9831b491eaaab.tif'.format(train_directory)))"
   ]
  },
  {
   "cell_type": "markdown",
   "metadata": {},
   "source": [
    "#### Example of non - tumor images"
   ]
  },
  {
   "cell_type": "code",
   "execution_count": 164,
   "metadata": {},
   "outputs": [
    {
     "data": {
      "text/plain": [
       "<matplotlib.image.AxesImage at 0x188015e4978>"
      ]
     },
     "execution_count": 164,
     "metadata": {},
     "output_type": "execute_result"
    },
    {
     "data": {
      "image/png": "[encoded data removed]",
      "text/plain": [
       "<Figure size 432x288 with 1 Axes>"
      ]
     },
     "metadata": {
      "needs_background": "light"
     },
     "output_type": "display_data"
    }
   ],
   "source": [
    "plt.imshow(plt.imread('{}\\\\not_tumor\\\\3f0e0c769818e83dd0bf0ce99facc013646e4429.tif'.format(train_directory)))"
   ]
  },
  {
   "cell_type": "code",
   "execution_count": 150,
   "metadata": {},
   "outputs": [
    {
     "data": {
      "text/plain": [
       "<matplotlib.image.AxesImage at 0x188013a8470>"
      ]
     },
     "execution_count": 150,
     "metadata": {},
     "output_type": "execute_result"
    },
    {
     "data": {
      "image/png": "[encoded data removed]",
      "text/plain": [
       "<Figure size 432x288 with 1 Axes>"
      ]
     },
     "metadata": {
      "needs_background": "light"
     },
     "output_type": "display_data"
    }
   ],
   "source": [
    "plt.imshow(plt.imread('{}\\\\not_tumor\\\\74f4911f88a3aa200ed43dc57bea23b0d39c1753.tif'.format(train_directory)))"
   ]
  },
  {
   "cell_type": "code",
   "execution_count": 18,
   "metadata": {},
   "outputs": [
    {
     "name": "stderr",
     "output_type": "stream",
     "text": [
      "C:\\Users\\shett\\Anaconda3\\lib\\site-packages\\ipykernel_launcher.py:1: SettingWithCopyWarning: \n",
      "A value is trying to be set on a copy of a slice from a DataFrame.\n",
      "Try using .loc[row_indexer,col_indexer] = value instead\n",
      "\n",
      "See the caveats in the documentation: http://pandas.pydata.org/pandas-docs/stable/indexing.html#indexing-view-versus-copy\n",
      "  \"\"\"Entry point for launching an IPython kernel.\n"
     ]
    }
   ],
   "source": [
    "train_data['id']= train_data.id + '.tif'"
   ]
  },
  {
   "cell_type": "code",
   "execution_count": 19,
   "metadata": {},
   "outputs": [
    {
     "data": {
      "text/html": [
       "<div>\n",
       "<style scoped>\n",
       "    .dataframe tbody tr th:only-of-type {\n",
       "        vertical-align: middle;\n",
       "    }\n",
       "\n",
       "    .dataframe tbody tr th {\n",
       "        vertical-align: top;\n",
       "    }\n",
       "\n",
       "    .dataframe thead th {\n",
       "        text-align: right;\n",
       "    }\n",
       "</style>\n",
       "<table border=\"1\" class=\"dataframe\">\n",
       "  <thead>\n",
       "    <tr style=\"text-align: right;\">\n",
       "      <th></th>\n",
       "      <th>id</th>\n",
       "      <th>label</th>\n",
       "    </tr>\n",
       "  </thead>\n",
       "  <tbody>\n",
       "    <tr>\n",
       "      <th>152379</th>\n",
       "      <td>556213f1169aa7cd1e2f023288009761ac017937.tif</td>\n",
       "      <td>1</td>\n",
       "    </tr>\n",
       "    <tr>\n",
       "      <th>59020</th>\n",
       "      <td>ad6dece5fe00e8266ee5a695052a025245ffed90.tif</td>\n",
       "      <td>0</td>\n",
       "    </tr>\n",
       "  </tbody>\n",
       "</table>\n",
       "</div>"
      ],
      "text/plain": [
       "                                                  id  label\n",
       "152379  556213f1169aa7cd1e2f023288009761ac017937.tif      1\n",
       "59020   ad6dece5fe00e8266ee5a695052a025245ffed90.tif      0"
      ]
     },
     "execution_count": 19,
     "metadata": {},
     "output_type": "execute_result"
    }
   ],
   "source": [
    "train_data.head(2)"
   ]
  },
  {
   "cell_type": "code",
   "execution_count": 20,
   "metadata": {},
   "outputs": [
    {
     "name": "stderr",
     "output_type": "stream",
     "text": [
      "C:\\Users\\shett\\Anaconda3\\lib\\site-packages\\ipykernel_launcher.py:1: SettingWithCopyWarning: \n",
      "A value is trying to be set on a copy of a slice from a DataFrame.\n",
      "Try using .loc[row_indexer,col_indexer] = value instead\n",
      "\n",
      "See the caveats in the documentation: http://pandas.pydata.org/pandas-docs/stable/indexing.html#indexing-view-versus-copy\n",
      "  \"\"\"Entry point for launching an IPython kernel.\n"
     ]
    }
   ],
   "source": [
    "train_data['label_text']=np.where(train_data.label==1,'tumor','not_tumor')"
   ]
  },
  {
   "cell_type": "code",
   "execution_count": 21,
   "metadata": {},
   "outputs": [
    {
     "data": {
      "text/html": [
       "<div>\n",
       "<style scoped>\n",
       "    .dataframe tbody tr th:only-of-type {\n",
       "        vertical-align: middle;\n",
       "    }\n",
       "\n",
       "    .dataframe tbody tr th {\n",
       "        vertical-align: top;\n",
       "    }\n",
       "\n",
       "    .dataframe thead th {\n",
       "        text-align: right;\n",
       "    }\n",
       "</style>\n",
       "<table border=\"1\" class=\"dataframe\">\n",
       "  <thead>\n",
       "    <tr style=\"text-align: right;\">\n",
       "      <th></th>\n",
       "      <th>id</th>\n",
       "      <th>label</th>\n",
       "      <th>label_text</th>\n",
       "    </tr>\n",
       "  </thead>\n",
       "  <tbody>\n",
       "    <tr>\n",
       "      <th>152379</th>\n",
       "      <td>556213f1169aa7cd1e2f023288009761ac017937.tif</td>\n",
       "      <td>1</td>\n",
       "      <td>tumor</td>\n",
       "    </tr>\n",
       "    <tr>\n",
       "      <th>59020</th>\n",
       "      <td>ad6dece5fe00e8266ee5a695052a025245ffed90.tif</td>\n",
       "      <td>0</td>\n",
       "      <td>not_tumor</td>\n",
       "    </tr>\n",
       "  </tbody>\n",
       "</table>\n",
       "</div>"
      ],
      "text/plain": [
       "                                                  id  label label_text\n",
       "152379  556213f1169aa7cd1e2f023288009761ac017937.tif      1      tumor\n",
       "59020   ad6dece5fe00e8266ee5a695052a025245ffed90.tif      0  not_tumor"
      ]
     },
     "execution_count": 21,
     "metadata": {},
     "output_type": "execute_result"
    }
   ],
   "source": [
    "train_data.head(2)"
   ]
  },
  {
   "cell_type": "code",
   "execution_count": null,
   "metadata": {},
   "outputs": [],
   "source": [
    "train_directory\n",
    "val_directory"
   ]
  },
  {
   "cell_type": "code",
   "execution_count": null,
   "metadata": {},
   "outputs": [],
   "source": [
    "extract=\"C:\\\\Users\\\\shett\\Cancer_data\\\\train\""
   ]
  },
  {
   "cell_type": "code",
   "execution_count": null,
   "metadata": {},
   "outputs": [],
   "source": [
    "for index,row in train_data.iterrows():\n",
    "    old_destination=os.path.join(extract,row.id)\n",
    "    \n",
    "    new_destination=os.path.join(train_directory,row.label_text, row.id)\n",
    "    \n",
    "    shutil.copyfile(old_destination, new_destination)"
   ]
  },
  {
   "cell_type": "markdown",
   "metadata": {},
   "source": [
    "### To validation folder"
   ]
  },
  {
   "cell_type": "code",
   "execution_count": 25,
   "metadata": {},
   "outputs": [
    {
     "data": {
      "text/html": [
       "<div>\n",
       "<style scoped>\n",
       "    .dataframe tbody tr th:only-of-type {\n",
       "        vertical-align: middle;\n",
       "    }\n",
       "\n",
       "    .dataframe tbody tr th {\n",
       "        vertical-align: top;\n",
       "    }\n",
       "\n",
       "    .dataframe thead th {\n",
       "        text-align: right;\n",
       "    }\n",
       "</style>\n",
       "<table border=\"1\" class=\"dataframe\">\n",
       "  <thead>\n",
       "    <tr style=\"text-align: right;\">\n",
       "      <th></th>\n",
       "      <th>id</th>\n",
       "      <th>label</th>\n",
       "    </tr>\n",
       "  </thead>\n",
       "  <tbody>\n",
       "    <tr>\n",
       "      <th>26282</th>\n",
       "      <td>6680fe8789458122be9311c65f520c7c02bffe5b</td>\n",
       "      <td>0</td>\n",
       "    </tr>\n",
       "    <tr>\n",
       "      <th>70503</th>\n",
       "      <td>ec02d90f99d441768f869dc4c38a558ff41f0703</td>\n",
       "      <td>0</td>\n",
       "    </tr>\n",
       "  </tbody>\n",
       "</table>\n",
       "</div>"
      ],
      "text/plain": [
       "                                             id  label\n",
       "26282  6680fe8789458122be9311c65f520c7c02bffe5b      0\n",
       "70503  ec02d90f99d441768f869dc4c38a558ff41f0703      0"
      ]
     },
     "execution_count": 25,
     "metadata": {},
     "output_type": "execute_result"
    },
    {
     "name": "stderr",
     "output_type": "stream",
     "text": [
      "C:\\Users\\shett\\Anaconda3\\lib\\site-packages\\ipykernel_launcher.py:2: SettingWithCopyWarning: \n",
      "A value is trying to be set on a copy of a slice from a DataFrame.\n",
      "Try using .loc[row_indexer,col_indexer] = value instead\n",
      "\n",
      "See the caveats in the documentation: http://pandas.pydata.org/pandas-docs/stable/indexing.html#indexing-view-versus-copy\n",
      "  \n"
     ]
    },
    {
     "data": {
      "text/html": [
       "<div>\n",
       "<style scoped>\n",
       "    .dataframe tbody tr th:only-of-type {\n",
       "        vertical-align: middle;\n",
       "    }\n",
       "\n",
       "    .dataframe tbody tr th {\n",
       "        vertical-align: top;\n",
       "    }\n",
       "\n",
       "    .dataframe thead th {\n",
       "        text-align: right;\n",
       "    }\n",
       "</style>\n",
       "<table border=\"1\" class=\"dataframe\">\n",
       "  <thead>\n",
       "    <tr style=\"text-align: right;\">\n",
       "      <th></th>\n",
       "      <th>id</th>\n",
       "      <th>label</th>\n",
       "    </tr>\n",
       "  </thead>\n",
       "  <tbody>\n",
       "    <tr>\n",
       "      <th>26282</th>\n",
       "      <td>6680fe8789458122be9311c65f520c7c02bffe5b.tif</td>\n",
       "      <td>0</td>\n",
       "    </tr>\n",
       "    <tr>\n",
       "      <th>70503</th>\n",
       "      <td>ec02d90f99d441768f869dc4c38a558ff41f0703.tif</td>\n",
       "      <td>0</td>\n",
       "    </tr>\n",
       "  </tbody>\n",
       "</table>\n",
       "</div>"
      ],
      "text/plain": [
       "                                                 id  label\n",
       "26282  6680fe8789458122be9311c65f520c7c02bffe5b.tif      0\n",
       "70503  ec02d90f99d441768f869dc4c38a558ff41f0703.tif      0"
      ]
     },
     "execution_count": 25,
     "metadata": {},
     "output_type": "execute_result"
    }
   ],
   "source": [
    "val_data.head(2)\n",
    "val_data['id']= val_data.id + '.tif'\n",
    "val_data.head(2)"
   ]
  },
  {
   "cell_type": "code",
   "execution_count": 26,
   "metadata": {},
   "outputs": [
    {
     "name": "stderr",
     "output_type": "stream",
     "text": [
      "C:\\Users\\shett\\Anaconda3\\lib\\site-packages\\ipykernel_launcher.py:1: SettingWithCopyWarning: \n",
      "A value is trying to be set on a copy of a slice from a DataFrame.\n",
      "Try using .loc[row_indexer,col_indexer] = value instead\n",
      "\n",
      "See the caveats in the documentation: http://pandas.pydata.org/pandas-docs/stable/indexing.html#indexing-view-versus-copy\n",
      "  \"\"\"Entry point for launching an IPython kernel.\n"
     ]
    },
    {
     "data": {
      "text/html": [
       "<div>\n",
       "<style scoped>\n",
       "    .dataframe tbody tr th:only-of-type {\n",
       "        vertical-align: middle;\n",
       "    }\n",
       "\n",
       "    .dataframe tbody tr th {\n",
       "        vertical-align: top;\n",
       "    }\n",
       "\n",
       "    .dataframe thead th {\n",
       "        text-align: right;\n",
       "    }\n",
       "</style>\n",
       "<table border=\"1\" class=\"dataframe\">\n",
       "  <thead>\n",
       "    <tr style=\"text-align: right;\">\n",
       "      <th></th>\n",
       "      <th>id</th>\n",
       "      <th>label</th>\n",
       "      <th>label_text</th>\n",
       "    </tr>\n",
       "  </thead>\n",
       "  <tbody>\n",
       "    <tr>\n",
       "      <th>26282</th>\n",
       "      <td>6680fe8789458122be9311c65f520c7c02bffe5b.tif</td>\n",
       "      <td>0</td>\n",
       "      <td>not_tumor</td>\n",
       "    </tr>\n",
       "    <tr>\n",
       "      <th>70503</th>\n",
       "      <td>ec02d90f99d441768f869dc4c38a558ff41f0703.tif</td>\n",
       "      <td>0</td>\n",
       "      <td>not_tumor</td>\n",
       "    </tr>\n",
       "  </tbody>\n",
       "</table>\n",
       "</div>"
      ],
      "text/plain": [
       "                                                 id  label label_text\n",
       "26282  6680fe8789458122be9311c65f520c7c02bffe5b.tif      0  not_tumor\n",
       "70503  ec02d90f99d441768f869dc4c38a558ff41f0703.tif      0  not_tumor"
      ]
     },
     "execution_count": 26,
     "metadata": {},
     "output_type": "execute_result"
    }
   ],
   "source": [
    "val_data['label_text']=np.where(val_data.label==1,'tumor','not_tumor')\n",
    "val_data.head(2)"
   ]
  },
  {
   "cell_type": "code",
   "execution_count": null,
   "metadata": {},
   "outputs": [],
   "source": [
    "for index,row in val_data.iterrows():\n",
    "    old_destination2=os.path.join(extract,row.id)\n",
    "    \n",
    "    new_destination2=os.path.join(val_directory,row.label_text, row.id)\n",
    "    \n",
    "    shutil.copyfile(old_destination2, new_destination2)"
   ]
  },
  {
   "cell_type": "code",
   "execution_count": null,
   "metadata": {},
   "outputs": [],
   "source": []
  },
  {
   "cell_type": "code",
   "execution_count": 27,
   "metadata": {},
   "outputs": [
    {
     "name": "stdout",
     "output_type": "stream",
     "text": [
      "72250\n"
     ]
    }
   ],
   "source": [
    "print(len(os.listdir(\"C:\\\\Users\\\\shett\\\\Cancer_data\\\\train_images\\\\not_tumor\")))"
   ]
  },
  {
   "cell_type": "markdown",
   "metadata": {},
   "source": [
    "## 5. Data augmentation of images and conversion to tensors"
   ]
  },
  {
   "cell_type": "code",
   "execution_count": 45,
   "metadata": {},
   "outputs": [],
   "source": [
    "train_directory=\"C:\\\\Users\\\\shett\\\\Cancer_data\\\\train_images\"\n",
    "val_directory=\"C:\\\\Users\\\\shett\\\\Cancer_data\\\\val_images\"\n",
    "test_directory=\"C:\\\\Users\\\\shett\\\\Cancer_data\\\\test_images\""
   ]
  },
  {
   "cell_type": "code",
   "execution_count": 35,
   "metadata": {},
   "outputs": [],
   "source": [
    "train_datagen = ImageDataGenerator(rescale=1./255,\n",
    "      rotation_range=40,\n",
    "      width_shift_range=0.2,\n",
    "      height_shift_range=0.2,\n",
    "      shear_range=0.2,\n",
    "      zoom_range=0.2,\n",
    "      horizontal_flip=True,\n",
    "      fill_mode='nearest')\n",
    "\n",
    "\n",
    "val_datagen = ImageDataGenerator(rescale=1./255,\n",
    "      rotation_range=40,\n",
    "      width_shift_range=0.2,\n",
    "      height_shift_range=0.2,\n",
    "      shear_range=0.2,\n",
    "      zoom_range=0.2,\n",
    "      horizontal_flip=True,\n",
    "      fill_mode='nearest')\n",
    "\n",
    "\n",
    "test_datagen = ImageDataGenerator(rescale=1./255,\n",
    "      rotation_range=40,\n",
    "      width_shift_range=0.2,\n",
    "      height_shift_range=0.2,\n",
    "      shear_range=0.2,\n",
    "      zoom_range=0.2,\n",
    "      horizontal_flip=True,\n",
    "      fill_mode='nearest')\n"
   ]
  },
  {
   "cell_type": "code",
   "execution_count": 52,
   "metadata": {},
   "outputs": [
    {
     "name": "stdout",
     "output_type": "stream",
     "text": [
      "Found 144500 images belonging to 2 classes.\n",
      "Found 25500 images belonging to 2 classes.\n"
     ]
    }
   ],
   "source": [
    "train_generator = train_datagen.flow_from_directory(\n",
    "        train_directory,\n",
    "        target_size=(96, 96),\n",
    "        batch_size=5,\n",
    "        class_mode='categorical')\n",
    "\n",
    "val_generator = val_datagen.flow_from_directory(\n",
    "        val_directory,\n",
    "        target_size=(96, 96),\n",
    "        batch_size=5,\n",
    "        class_mode='categorical')\n"
   ]
  },
  {
   "cell_type": "code",
   "execution_count": 53,
   "metadata": {},
   "outputs": [
    {
     "name": "stdout",
     "output_type": "stream",
     "text": [
      "Found 25500 images belonging to 2 classes.\n"
     ]
    }
   ],
   "source": [
    "test_generator = test_datagen.flow_from_directory(\n",
    "        val_directory,\n",
    "        target_size=(96, 96),\n",
    "        batch_size=1,\n",
    "        class_mode='categorical',shuffle=False)"
   ]
  },
  {
   "cell_type": "code",
   "execution_count": 54,
   "metadata": {},
   "outputs": [],
   "source": [
    "train_steps = np.ceil(len(train_data) / 5)\n",
    "val_steps = np.ceil(len(val_data) / 5)"
   ]
  },
  {
   "cell_type": "markdown",
   "metadata": {},
   "source": [
    "## 6. Model compilation and training"
   ]
  },
  {
   "cell_type": "code",
   "execution_count": 40,
   "metadata": {},
   "outputs": [
    {
     "name": "stdout",
     "output_type": "stream",
     "text": [
      "_________________________________________________________________\n",
      "Layer (type)                 Output Shape              Param #   \n",
      "=================================================================\n",
      "conv2d_4 (Conv2D)            (None, 94, 94, 32)        896       \n",
      "_________________________________________________________________\n",
      "conv2d_5 (Conv2D)            (None, 92, 92, 32)        9248      \n",
      "_________________________________________________________________\n",
      "conv2d_6 (Conv2D)            (None, 90, 90, 32)        9248      \n",
      "_________________________________________________________________\n",
      "max_pooling2d_2 (MaxPooling2 (None, 45, 45, 32)        0         \n",
      "_________________________________________________________________\n",
      "dropout_1 (Dropout)          (None, 45, 45, 32)        0         \n",
      "_________________________________________________________________\n",
      "conv2d_7 (Conv2D)            (None, 43, 43, 64)        18496     \n",
      "_________________________________________________________________\n",
      "conv2d_8 (Conv2D)            (None, 41, 41, 64)        36928     \n",
      "_________________________________________________________________\n",
      "conv2d_9 (Conv2D)            (None, 39, 39, 64)        36928     \n",
      "_________________________________________________________________\n",
      "max_pooling2d_3 (MaxPooling2 (None, 19, 19, 64)        0         \n",
      "_________________________________________________________________\n",
      "dropout_2 (Dropout)          (None, 19, 19, 64)        0         \n",
      "_________________________________________________________________\n",
      "conv2d_10 (Conv2D)           (None, 17, 17, 128)       73856     \n",
      "_________________________________________________________________\n",
      "conv2d_11 (Conv2D)           (None, 15, 15, 128)       147584    \n",
      "_________________________________________________________________\n",
      "conv2d_12 (Conv2D)           (None, 13, 13, 128)       147584    \n",
      "_________________________________________________________________\n",
      "max_pooling2d_4 (MaxPooling2 (None, 6, 6, 128)         0         \n",
      "_________________________________________________________________\n",
      "dropout_3 (Dropout)          (None, 6, 6, 128)         0         \n",
      "_________________________________________________________________\n",
      "flatten_1 (Flatten)          (None, 4608)              0         \n",
      "_________________________________________________________________\n",
      "dense_1 (Dense)              (None, 256)               1179904   \n",
      "_________________________________________________________________\n",
      "dropout_4 (Dropout)          (None, 256)               0         \n",
      "_________________________________________________________________\n",
      "dense_2 (Dense)              (None, 2)                 514       \n",
      "=================================================================\n",
      "Total params: 1,661,186\n",
      "Trainable params: 1,661,186\n",
      "Non-trainable params: 0\n",
      "_________________________________________________________________\n"
     ]
    }
   ],
   "source": [
    "#Inspiration of the design of the model from https://www.kaggle.com/fmarazzi/baseline-keras-cnn-roc-fast-5min-0-8253-lb\n",
    "\n",
    "model = Sequential()\n",
    "model.add(Conv2D(32, (3,3), activation = 'relu', input_shape = (96, 96, 3)))\n",
    "model.add(Conv2D(32, (3,3), activation = 'relu'))\n",
    "model.add(Conv2D(32, (3,3), activation = 'relu'))\n",
    "model.add(MaxPooling2D((2,2))) \n",
    "model.add(Dropout(0.25))\n",
    "\n",
    "model.add(Conv2D(64, (3,3), activation ='relu'))\n",
    "model.add(Conv2D(64, (3,3), activation ='relu'))\n",
    "model.add(Conv2D(64, (3,3), activation ='relu'))\n",
    "model.add(MaxPooling2D((2,2)))\n",
    "model.add(Dropout(0.25))\n",
    "\n",
    "model.add(Conv2D(128, (3,3), activation ='relu'))\n",
    "model.add(Conv2D(128, (3,3), activation ='relu'))\n",
    "model.add(Conv2D(128, (3,3), activation ='relu'))\n",
    "model.add(MaxPooling2D((2,2)))\n",
    "model.add(Dropout(0.25))\n",
    "\n",
    "model.add(Flatten())\n",
    "model.add(Dense(256, activation = \"relu\"))\n",
    "model.add(Dropout(0.25))\n",
    "model.add(Dense(2, activation = \"softmax\"))\n",
    "\n",
    "model.summary()"
   ]
  },
  {
   "cell_type": "code",
   "execution_count": 41,
   "metadata": {},
   "outputs": [],
   "source": [
    "model.compile(optimizer=Adam(lr=0.0001, decay=1e-6), loss='binary_crossentropy', \n",
    "              metrics=['accuracy'])"
   ]
  },
  {
   "cell_type": "code",
   "execution_count": 42,
   "metadata": {},
   "outputs": [],
   "source": [
    "checkpoint = ModelCheckpoint('cancer_new.h5', monitor='val_acc', verbose=1, \n",
    "                             save_best_only=True, mode='max')"
   ]
  },
  {
   "cell_type": "code",
   "execution_count": 55,
   "metadata": {},
   "outputs": [
    {
     "name": "stdout",
     "output_type": "stream",
     "text": [
      "Epoch 1/5\n",
      "28900/28900 [==============================] - 15786s 546ms/step - loss: 0.4381 - acc: 0.7995 - val_loss: 0.3887 - val_acc: 0.8320\n",
      "\n",
      "Epoch 00001: val_acc improved from -inf to 0.83204, saving model to cancer_new.h5\n",
      "Epoch 2/5\n",
      "28900/28900 [==============================] - 8844s 306ms/step - loss: 0.3581 - acc: 0.8432 - val_loss: 0.3948 - val_acc: 0.8259\n",
      "\n",
      "Epoch 00002: val_acc did not improve from 0.83204\n",
      "Epoch 3/5\n",
      "28900/28900 [==============================] - 8863s 307ms/step - loss: 0.3218 - acc: 0.8627 - val_loss: 0.3485 - val_acc: 0.8451\n",
      "\n",
      "Epoch 00003: val_acc improved from 0.83204 to 0.84514, saving model to cancer_new.h5\n",
      "Epoch 4/5\n",
      "28900/28900 [==============================] - 9085s 314ms/step - loss: 0.3031 - acc: 0.8720 - val_loss: 0.3319 - val_acc: 0.8523\n",
      "\n",
      "Epoch 00004: val_acc improved from 0.84514 to 0.85231, saving model to cancer_new.h5\n",
      "Epoch 5/5\n",
      "28900/28900 [==============================] - 8880s 307ms/step - loss: 0.2885 - acc: 0.8797 - val_loss: 0.3007 - val_acc: 0.8747\n",
      "\n",
      "Epoch 00005: val_acc improved from 0.85231 to 0.87467, saving model to cancer_new.h5\n"
     ]
    }
   ],
   "source": [
    "history = model.fit_generator(train_generator, steps_per_epoch=train_steps, \n",
    "                    validation_data=val_generator,\n",
    "                    validation_steps=val_steps,\n",
    "                    epochs=5, verbose=1,\n",
    "                   callbacks=[checkpoint])"
   ]
  },
  {
   "cell_type": "code",
   "execution_count": 56,
   "metadata": {},
   "outputs": [
    {
     "data": {
      "text/plain": [
       "['loss', 'acc']"
      ]
     },
     "execution_count": 56,
     "metadata": {},
     "output_type": "execute_result"
    }
   ],
   "source": [
    "model.metrics_names"
   ]
  },
  {
   "cell_type": "code",
   "execution_count": 59,
   "metadata": {},
   "outputs": [
    {
     "name": "stdout",
     "output_type": "stream",
     "text": [
      "val_loss: 0.30025689363840674\n",
      "val_acc: 0.8746666666666667\n"
     ]
    }
   ],
   "source": [
    "val_loss, val_acc = model.evaluate_generator(test_generator, \n",
    "                        steps=len(val_data))\n",
    "\n",
    "print('val_loss:', val_loss)\n",
    "print('val_acc:', val_acc)"
   ]
  },
  {
   "cell_type": "code",
   "execution_count": 61,
   "metadata": {},
   "outputs": [
    {
     "name": "stdout",
     "output_type": "stream",
     "text": [
      "25500/25500 [==============================] - 507s 20ms/step\n"
     ]
    }
   ],
   "source": [
    "predictions =model.predict_generator(test_generator, steps=len(val_data), verbose=1)"
   ]
  },
  {
   "cell_type": "code",
   "execution_count": 62,
   "metadata": {},
   "outputs": [
    {
     "data": {
      "text/html": [
       "<div>\n",
       "<style scoped>\n",
       "    .dataframe tbody tr th:only-of-type {\n",
       "        vertical-align: middle;\n",
       "    }\n",
       "\n",
       "    .dataframe tbody tr th {\n",
       "        vertical-align: top;\n",
       "    }\n",
       "\n",
       "    .dataframe thead th {\n",
       "        text-align: right;\n",
       "    }\n",
       "</style>\n",
       "<table border=\"1\" class=\"dataframe\">\n",
       "  <thead>\n",
       "    <tr style=\"text-align: right;\">\n",
       "      <th></th>\n",
       "      <th>not_tumor</th>\n",
       "      <th>tumor</th>\n",
       "    </tr>\n",
       "  </thead>\n",
       "  <tbody>\n",
       "    <tr>\n",
       "      <th>0</th>\n",
       "      <td>0.963075</td>\n",
       "      <td>0.036925</td>\n",
       "    </tr>\n",
       "    <tr>\n",
       "      <th>1</th>\n",
       "      <td>0.918253</td>\n",
       "      <td>0.081747</td>\n",
       "    </tr>\n",
       "    <tr>\n",
       "      <th>2</th>\n",
       "      <td>0.970330</td>\n",
       "      <td>0.029670</td>\n",
       "    </tr>\n",
       "    <tr>\n",
       "      <th>3</th>\n",
       "      <td>0.803935</td>\n",
       "      <td>0.196065</td>\n",
       "    </tr>\n",
       "    <tr>\n",
       "      <th>4</th>\n",
       "      <td>0.752873</td>\n",
       "      <td>0.247128</td>\n",
       "    </tr>\n",
       "  </tbody>\n",
       "</table>\n",
       "</div>"
      ],
      "text/plain": [
       "   not_tumor     tumor\n",
       "0   0.963075  0.036925\n",
       "1   0.918253  0.081747\n",
       "2   0.970330  0.029670\n",
       "3   0.803935  0.196065\n",
       "4   0.752873  0.247128"
      ]
     },
     "execution_count": 62,
     "metadata": {},
     "output_type": "execute_result"
    }
   ],
   "source": [
    "pred_data = pd.DataFrame(predictions, columns=['not_tumor', 'tumor'])\n",
    "\n",
    "pred_data.head()"
   ]
  },
  {
   "cell_type": "code",
   "execution_count": 63,
   "metadata": {},
   "outputs": [
    {
     "data": {
      "text/plain": [
       "0.9580585713187237"
      ]
     },
     "execution_count": 63,
     "metadata": {},
     "output_type": "execute_result"
    }
   ],
   "source": [
    "roc_auc_score(test_generator.classes, pred_data['tumor'])"
   ]
  },
  {
   "cell_type": "code",
   "execution_count": 70,
   "metadata": {},
   "outputs": [
    {
     "data": {
      "text/plain": [
       "array([[10378,  2372],\n",
       "       [  811, 11939]], dtype=int64)"
      ]
     },
     "execution_count": 70,
     "metadata": {},
     "output_type": "execute_result"
    }
   ],
   "source": [
    "confusion_matrix(test_generator.classes, predictions.argmax(axis=1))"
   ]
  },
  {
   "cell_type": "code",
   "execution_count": 76,
   "metadata": {},
   "outputs": [
    {
     "name": "stdout",
     "output_type": "stream",
     "text": [
      "              precision    recall  f1-score   support\n",
      "\n",
      "           0       0.93      0.81      0.87     12750\n",
      "           1       0.83      0.94      0.88     12750\n",
      "\n",
      "   micro avg       0.88      0.88      0.88     25500\n",
      "   macro avg       0.88      0.88      0.87     25500\n",
      "weighted avg       0.88      0.88      0.87     25500\n",
      "\n"
     ]
    }
   ],
   "source": [
    "print(classification_report(test_generator.classes, predictions.argmax(axis=1) , labels = [0,1]))"
   ]
  },
  {
   "cell_type": "code",
   "execution_count": null,
   "metadata": {},
   "outputs": [],
   "source": []
  },
  {
   "cell_type": "markdown",
   "metadata": {},
   "source": [
    "##  7. Prediction on test set images"
   ]
  },
  {
   "cell_type": "code",
   "execution_count": 78,
   "metadata": {},
   "outputs": [
    {
     "data": {
      "text/plain": [
       "'C:\\\\Users\\\\shett\\\\Cancer_data\\\\test_images'"
      ]
     },
     "execution_count": 78,
     "metadata": {},
     "output_type": "execute_result"
    }
   ],
   "source": [
    "test_directory"
   ]
  },
  {
   "cell_type": "code",
   "execution_count": 83,
   "metadata": {},
   "outputs": [
    {
     "data": {
      "text/plain": [
       "57458"
      ]
     },
     "execution_count": 83,
     "metadata": {},
     "output_type": "execute_result"
    }
   ],
   "source": [
    "len(os.listdir(\"{}\\\\test\".format(test_directory)))"
   ]
  },
  {
   "cell_type": "code",
   "execution_count": 86,
   "metadata": {},
   "outputs": [],
   "source": [
    "final_test_generator = ImageDataGenerator(rescale=1./255)"
   ]
  },
  {
   "cell_type": "code",
   "execution_count": 87,
   "metadata": {},
   "outputs": [
    {
     "name": "stdout",
     "output_type": "stream",
     "text": [
      "Found 57458 images belonging to 1 classes.\n"
     ]
    }
   ],
   "source": [
    "final_test_generator = final_test_generator.flow_from_directory(test_directory,\n",
    "                                        target_size=(96,96),\n",
    "                                        batch_size=1,\n",
    "                                        class_mode='categorical',\n",
    "                                        shuffle=False)"
   ]
  },
  {
   "cell_type": "code",
   "execution_count": 88,
   "metadata": {},
   "outputs": [
    {
     "name": "stdout",
     "output_type": "stream",
     "text": [
      "57458/57458 [==============================] - 1160s 20ms/step\n"
     ]
    }
   ],
   "source": [
    "final_predictions = model.predict_generator(final_test_generator, steps=57458, verbose=1)"
   ]
  },
  {
   "cell_type": "code",
   "execution_count": 94,
   "metadata": {},
   "outputs": [
    {
     "data": {
      "text/html": [
       "<div>\n",
       "<style scoped>\n",
       "    .dataframe tbody tr th:only-of-type {\n",
       "        vertical-align: middle;\n",
       "    }\n",
       "\n",
       "    .dataframe tbody tr th {\n",
       "        vertical-align: top;\n",
       "    }\n",
       "\n",
       "    .dataframe thead th {\n",
       "        text-align: right;\n",
       "    }\n",
       "</style>\n",
       "<table border=\"1\" class=\"dataframe\">\n",
       "  <thead>\n",
       "    <tr style=\"text-align: right;\">\n",
       "      <th></th>\n",
       "      <th>not_tumor</th>\n",
       "      <th>tumor</th>\n",
       "    </tr>\n",
       "  </thead>\n",
       "  <tbody>\n",
       "    <tr>\n",
       "      <th>0</th>\n",
       "      <td>0.043410</td>\n",
       "      <td>0.956590</td>\n",
       "    </tr>\n",
       "    <tr>\n",
       "      <th>1</th>\n",
       "      <td>0.046168</td>\n",
       "      <td>0.953832</td>\n",
       "    </tr>\n",
       "  </tbody>\n",
       "</table>\n",
       "</div>"
      ],
      "text/plain": [
       "   not_tumor     tumor\n",
       "0   0.043410  0.956590\n",
       "1   0.046168  0.953832"
      ]
     },
     "execution_count": 94,
     "metadata": {},
     "output_type": "execute_result"
    }
   ],
   "source": [
    "final_df = pd.DataFrame(final_predictions, columns=['not_tumor', 'tumor'])\n",
    "final_df.head(2)"
   ]
  },
  {
   "cell_type": "code",
   "execution_count": 95,
   "metadata": {},
   "outputs": [
    {
     "data": {
      "text/plain": [
       "(57458, 2)"
      ]
     },
     "execution_count": 95,
     "metadata": {},
     "output_type": "execute_result"
    }
   ],
   "source": [
    "final_df.shape"
   ]
  },
  {
   "cell_type": "code",
   "execution_count": 96,
   "metadata": {},
   "outputs": [
    {
     "data": {
      "text/plain": [
       "57458"
      ]
     },
     "execution_count": 96,
     "metadata": {},
     "output_type": "execute_result"
    }
   ],
   "source": [
    "len(final_test_generator.filenames)"
   ]
  },
  {
   "cell_type": "code",
   "execution_count": 97,
   "metadata": {},
   "outputs": [
    {
     "data": {
      "text/html": [
       "<div>\n",
       "<style scoped>\n",
       "    .dataframe tbody tr th:only-of-type {\n",
       "        vertical-align: middle;\n",
       "    }\n",
       "\n",
       "    .dataframe tbody tr th {\n",
       "        vertical-align: top;\n",
       "    }\n",
       "\n",
       "    .dataframe thead th {\n",
       "        text-align: right;\n",
       "    }\n",
       "</style>\n",
       "<table border=\"1\" class=\"dataframe\">\n",
       "  <thead>\n",
       "    <tr style=\"text-align: right;\">\n",
       "      <th></th>\n",
       "      <th>not_tumor</th>\n",
       "      <th>tumor</th>\n",
       "      <th>file_location</th>\n",
       "    </tr>\n",
       "  </thead>\n",
       "  <tbody>\n",
       "    <tr>\n",
       "      <th>0</th>\n",
       "      <td>0.043410</td>\n",
       "      <td>0.956590</td>\n",
       "      <td>test\\00006537328c33e284c973d7b39d340809f7271b.tif</td>\n",
       "    </tr>\n",
       "    <tr>\n",
       "      <th>1</th>\n",
       "      <td>0.046168</td>\n",
       "      <td>0.953832</td>\n",
       "      <td>test\\0000ec92553fda4ce39889f9226ace43cae3364e.tif</td>\n",
       "    </tr>\n",
       "  </tbody>\n",
       "</table>\n",
       "</div>"
      ],
      "text/plain": [
       "   not_tumor     tumor                                      file_location\n",
       "0   0.043410  0.956590  test\\00006537328c33e284c973d7b39d340809f7271b.tif\n",
       "1   0.046168  0.953832  test\\0000ec92553fda4ce39889f9226ace43cae3364e.tif"
      ]
     },
     "execution_count": 97,
     "metadata": {},
     "output_type": "execute_result"
    }
   ],
   "source": [
    "final_df['file_location']=final_test_generator.filenames\n",
    "final_df.head(2)"
   ]
  },
  {
   "cell_type": "code",
   "execution_count": 98,
   "metadata": {},
   "outputs": [
    {
     "data": {
      "text/plain": [
       "'test\\\\0000ec92553fda4ce39889f9226ace43cae3364e.tif'"
      ]
     },
     "execution_count": 98,
     "metadata": {},
     "output_type": "execute_result"
    }
   ],
   "source": [
    "final_df.file_location.iloc[1]"
   ]
  },
  {
   "cell_type": "code",
   "execution_count": 119,
   "metadata": {},
   "outputs": [],
   "source": [
    "final_df_id=[]\n",
    "for i in range(0,final_df.shape[0]):\n",
    "    final_df_id.append(re.search(r'\\\\(.+?).tif', final_df.file_location.iloc[i]).group(1))"
   ]
  },
  {
   "cell_type": "code",
   "execution_count": 121,
   "metadata": {},
   "outputs": [
    {
     "data": {
      "text/html": [
       "<div>\n",
       "<style scoped>\n",
       "    .dataframe tbody tr th:only-of-type {\n",
       "        vertical-align: middle;\n",
       "    }\n",
       "\n",
       "    .dataframe tbody tr th {\n",
       "        vertical-align: top;\n",
       "    }\n",
       "\n",
       "    .dataframe thead th {\n",
       "        text-align: right;\n",
       "    }\n",
       "</style>\n",
       "<table border=\"1\" class=\"dataframe\">\n",
       "  <thead>\n",
       "    <tr style=\"text-align: right;\">\n",
       "      <th></th>\n",
       "      <th>not_tumor</th>\n",
       "      <th>tumor</th>\n",
       "      <th>file_location</th>\n",
       "      <th>id</th>\n",
       "    </tr>\n",
       "  </thead>\n",
       "  <tbody>\n",
       "    <tr>\n",
       "      <th>0</th>\n",
       "      <td>0.043410</td>\n",
       "      <td>0.956590</td>\n",
       "      <td>test\\00006537328c33e284c973d7b39d340809f7271b.tif</td>\n",
       "      <td>00006537328c33e284c973d7b39d340809f7271b</td>\n",
       "    </tr>\n",
       "    <tr>\n",
       "      <th>1</th>\n",
       "      <td>0.046168</td>\n",
       "      <td>0.953832</td>\n",
       "      <td>test\\0000ec92553fda4ce39889f9226ace43cae3364e.tif</td>\n",
       "      <td>0000ec92553fda4ce39889f9226ace43cae3364e</td>\n",
       "    </tr>\n",
       "    <tr>\n",
       "      <th>2</th>\n",
       "      <td>0.271841</td>\n",
       "      <td>0.728159</td>\n",
       "      <td>test\\00024a6dee61f12f7856b0fc6be20bc7a48ba3d2.tif</td>\n",
       "      <td>00024a6dee61f12f7856b0fc6be20bc7a48ba3d2</td>\n",
       "    </tr>\n",
       "    <tr>\n",
       "      <th>3</th>\n",
       "      <td>0.674547</td>\n",
       "      <td>0.325453</td>\n",
       "      <td>test\\000253dfaa0be9d0d100283b22284ab2f6b643f6.tif</td>\n",
       "      <td>000253dfaa0be9d0d100283b22284ab2f6b643f6</td>\n",
       "    </tr>\n",
       "    <tr>\n",
       "      <th>4</th>\n",
       "      <td>0.952757</td>\n",
       "      <td>0.047243</td>\n",
       "      <td>test\\000270442cc15af719583a8172c87cd2bd9c7746.tif</td>\n",
       "      <td>000270442cc15af719583a8172c87cd2bd9c7746</td>\n",
       "    </tr>\n",
       "  </tbody>\n",
       "</table>\n",
       "</div>"
      ],
      "text/plain": [
       "   not_tumor     tumor                                      file_location  \\\n",
       "0   0.043410  0.956590  test\\00006537328c33e284c973d7b39d340809f7271b.tif   \n",
       "1   0.046168  0.953832  test\\0000ec92553fda4ce39889f9226ace43cae3364e.tif   \n",
       "2   0.271841  0.728159  test\\00024a6dee61f12f7856b0fc6be20bc7a48ba3d2.tif   \n",
       "3   0.674547  0.325453  test\\000253dfaa0be9d0d100283b22284ab2f6b643f6.tif   \n",
       "4   0.952757  0.047243  test\\000270442cc15af719583a8172c87cd2bd9c7746.tif   \n",
       "\n",
       "                                         id  \n",
       "0  00006537328c33e284c973d7b39d340809f7271b  \n",
       "1  0000ec92553fda4ce39889f9226ace43cae3364e  \n",
       "2  00024a6dee61f12f7856b0fc6be20bc7a48ba3d2  \n",
       "3  000253dfaa0be9d0d100283b22284ab2f6b643f6  \n",
       "4  000270442cc15af719583a8172c87cd2bd9c7746  "
      ]
     },
     "execution_count": 121,
     "metadata": {},
     "output_type": "execute_result"
    }
   ],
   "source": [
    "final_df['id']=final_df_id\n",
    "final_df.head()"
   ]
  },
  {
   "cell_type": "code",
   "execution_count": 130,
   "metadata": {},
   "outputs": [
    {
     "data": {
      "text/html": [
       "<div>\n",
       "<style scoped>\n",
       "    .dataframe tbody tr th:only-of-type {\n",
       "        vertical-align: middle;\n",
       "    }\n",
       "\n",
       "    .dataframe tbody tr th {\n",
       "        vertical-align: top;\n",
       "    }\n",
       "\n",
       "    .dataframe thead th {\n",
       "        text-align: right;\n",
       "    }\n",
       "</style>\n",
       "<table border=\"1\" class=\"dataframe\">\n",
       "  <thead>\n",
       "    <tr style=\"text-align: right;\">\n",
       "      <th></th>\n",
       "      <th>not_tumor</th>\n",
       "      <th>tumor</th>\n",
       "      <th>file_location</th>\n",
       "      <th>id</th>\n",
       "    </tr>\n",
       "  </thead>\n",
       "  <tbody>\n",
       "    <tr>\n",
       "      <th>57448</th>\n",
       "      <td>0.967193</td>\n",
       "      <td>0.032807</td>\n",
       "      <td>test\\fffb109428e7c1ff5cfaa8ba49c657fc13828bf8.tif</td>\n",
       "      <td>fffb109428e7c1ff5cfaa8ba49c657fc13828bf8</td>\n",
       "    </tr>\n",
       "    <tr>\n",
       "      <th>57449</th>\n",
       "      <td>0.529126</td>\n",
       "      <td>0.470874</td>\n",
       "      <td>test\\fffb3f6c8be9fb4d19245e6d5dbe003b03c70771.tif</td>\n",
       "      <td>fffb3f6c8be9fb4d19245e6d5dbe003b03c70771</td>\n",
       "    </tr>\n",
       "    <tr>\n",
       "      <th>57450</th>\n",
       "      <td>0.768732</td>\n",
       "      <td>0.231268</td>\n",
       "      <td>test\\fffbaf2d17fc95a855fa833bd08dfc20aa18d232.tif</td>\n",
       "      <td>fffbaf2d17fc95a855fa833bd08dfc20aa18d232</td>\n",
       "    </tr>\n",
       "    <tr>\n",
       "      <th>57451</th>\n",
       "      <td>0.000004</td>\n",
       "      <td>0.999996</td>\n",
       "      <td>test\\fffbc065982ddf01c39e4c74e62d1868551d0b25.tif</td>\n",
       "      <td>fffbc065982ddf01c39e4c74e62d1868551d0b25</td>\n",
       "    </tr>\n",
       "    <tr>\n",
       "      <th>57452</th>\n",
       "      <td>0.767263</td>\n",
       "      <td>0.232737</td>\n",
       "      <td>test\\fffbfb279c9c378af5c362363b841a38bbee3294.tif</td>\n",
       "      <td>fffbfb279c9c378af5c362363b841a38bbee3294</td>\n",
       "    </tr>\n",
       "    <tr>\n",
       "      <th>57453</th>\n",
       "      <td>0.992245</td>\n",
       "      <td>0.007755</td>\n",
       "      <td>test\\fffdd1cbb1ac0800f65309f344dd15e9331e1c53.tif</td>\n",
       "      <td>fffdd1cbb1ac0800f65309f344dd15e9331e1c53</td>\n",
       "    </tr>\n",
       "    <tr>\n",
       "      <th>57454</th>\n",
       "      <td>0.564092</td>\n",
       "      <td>0.435908</td>\n",
       "      <td>test\\fffdf4b82ba01f9cae88b9fa45be103344d9f6e3.tif</td>\n",
       "      <td>fffdf4b82ba01f9cae88b9fa45be103344d9f6e3</td>\n",
       "    </tr>\n",
       "    <tr>\n",
       "      <th>57455</th>\n",
       "      <td>0.996349</td>\n",
       "      <td>0.003651</td>\n",
       "      <td>test\\fffec7da56b54258038b0d382b3d55010eceb9d7.tif</td>\n",
       "      <td>fffec7da56b54258038b0d382b3d55010eceb9d7</td>\n",
       "    </tr>\n",
       "    <tr>\n",
       "      <th>57456</th>\n",
       "      <td>0.683990</td>\n",
       "      <td>0.316010</td>\n",
       "      <td>test\\ffff276d06a9e3fffc456f2a5a7a3fd1a2d322c6.tif</td>\n",
       "      <td>ffff276d06a9e3fffc456f2a5a7a3fd1a2d322c6</td>\n",
       "    </tr>\n",
       "    <tr>\n",
       "      <th>57457</th>\n",
       "      <td>0.907327</td>\n",
       "      <td>0.092673</td>\n",
       "      <td>test\\ffffeb4c0756098c7f589b7beec08ef1899093b5.tif</td>\n",
       "      <td>ffffeb4c0756098c7f589b7beec08ef1899093b5</td>\n",
       "    </tr>\n",
       "  </tbody>\n",
       "</table>\n",
       "</div>"
      ],
      "text/plain": [
       "       not_tumor     tumor                                      file_location  \\\n",
       "57448   0.967193  0.032807  test\\fffb109428e7c1ff5cfaa8ba49c657fc13828bf8.tif   \n",
       "57449   0.529126  0.470874  test\\fffb3f6c8be9fb4d19245e6d5dbe003b03c70771.tif   \n",
       "57450   0.768732  0.231268  test\\fffbaf2d17fc95a855fa833bd08dfc20aa18d232.tif   \n",
       "57451   0.000004  0.999996  test\\fffbc065982ddf01c39e4c74e62d1868551d0b25.tif   \n",
       "57452   0.767263  0.232737  test\\fffbfb279c9c378af5c362363b841a38bbee3294.tif   \n",
       "57453   0.992245  0.007755  test\\fffdd1cbb1ac0800f65309f344dd15e9331e1c53.tif   \n",
       "57454   0.564092  0.435908  test\\fffdf4b82ba01f9cae88b9fa45be103344d9f6e3.tif   \n",
       "57455   0.996349  0.003651  test\\fffec7da56b54258038b0d382b3d55010eceb9d7.tif   \n",
       "57456   0.683990  0.316010  test\\ffff276d06a9e3fffc456f2a5a7a3fd1a2d322c6.tif   \n",
       "57457   0.907327  0.092673  test\\ffffeb4c0756098c7f589b7beec08ef1899093b5.tif   \n",
       "\n",
       "                                             id  \n",
       "57448  fffb109428e7c1ff5cfaa8ba49c657fc13828bf8  \n",
       "57449  fffb3f6c8be9fb4d19245e6d5dbe003b03c70771  \n",
       "57450  fffbaf2d17fc95a855fa833bd08dfc20aa18d232  \n",
       "57451  fffbc065982ddf01c39e4c74e62d1868551d0b25  \n",
       "57452  fffbfb279c9c378af5c362363b841a38bbee3294  \n",
       "57453  fffdd1cbb1ac0800f65309f344dd15e9331e1c53  \n",
       "57454  fffdf4b82ba01f9cae88b9fa45be103344d9f6e3  \n",
       "57455  fffec7da56b54258038b0d382b3d55010eceb9d7  \n",
       "57456  ffff276d06a9e3fffc456f2a5a7a3fd1a2d322c6  \n",
       "57457  ffffeb4c0756098c7f589b7beec08ef1899093b5  "
      ]
     },
     "execution_count": 130,
     "metadata": {},
     "output_type": "execute_result"
    }
   ],
   "source": [
    "final_df.tail(10)"
   ]
  },
  {
   "cell_type": "code",
   "execution_count": 140,
   "metadata": {},
   "outputs": [
    {
     "data": {
      "text/html": [
       "<div>\n",
       "<style scoped>\n",
       "    .dataframe tbody tr th:only-of-type {\n",
       "        vertical-align: middle;\n",
       "    }\n",
       "\n",
       "    .dataframe tbody tr th {\n",
       "        vertical-align: top;\n",
       "    }\n",
       "\n",
       "    .dataframe thead th {\n",
       "        text-align: right;\n",
       "    }\n",
       "</style>\n",
       "<table border=\"1\" class=\"dataframe\">\n",
       "  <thead>\n",
       "    <tr style=\"text-align: right;\">\n",
       "      <th></th>\n",
       "      <th>label</th>\n",
       "    </tr>\n",
       "    <tr>\n",
       "      <th>id</th>\n",
       "      <th></th>\n",
       "    </tr>\n",
       "  </thead>\n",
       "  <tbody>\n",
       "    <tr>\n",
       "      <th>00006537328c33e284c973d7b39d340809f7271b</th>\n",
       "      <td>0.956590</td>\n",
       "    </tr>\n",
       "    <tr>\n",
       "      <th>0000ec92553fda4ce39889f9226ace43cae3364e</th>\n",
       "      <td>0.953832</td>\n",
       "    </tr>\n",
       "    <tr>\n",
       "      <th>00024a6dee61f12f7856b0fc6be20bc7a48ba3d2</th>\n",
       "      <td>0.728159</td>\n",
       "    </tr>\n",
       "    <tr>\n",
       "      <th>000253dfaa0be9d0d100283b22284ab2f6b643f6</th>\n",
       "      <td>0.325453</td>\n",
       "    </tr>\n",
       "    <tr>\n",
       "      <th>000270442cc15af719583a8172c87cd2bd9c7746</th>\n",
       "      <td>0.047243</td>\n",
       "    </tr>\n",
       "  </tbody>\n",
       "</table>\n",
       "</div>"
      ],
      "text/plain": [
       "                                             label\n",
       "id                                                \n",
       "00006537328c33e284c973d7b39d340809f7271b  0.956590\n",
       "0000ec92553fda4ce39889f9226ace43cae3364e  0.953832\n",
       "00024a6dee61f12f7856b0fc6be20bc7a48ba3d2  0.728159\n",
       "000253dfaa0be9d0d100283b22284ab2f6b643f6  0.325453\n",
       "000270442cc15af719583a8172c87cd2bd9c7746  0.047243"
      ]
     },
     "execution_count": 140,
     "metadata": {},
     "output_type": "execute_result"
    }
   ],
   "source": [
    "submission=final_df.rename(columns={'tumor':'label'}).drop(['not_tumor','file_location'],axis=1).set_index('id')\n",
    "submission.head()"
   ]
  },
  {
   "cell_type": "markdown",
   "metadata": {},
   "source": [
    "### Examples of predicted images"
   ]
  },
  {
   "cell_type": "markdown",
   "metadata": {},
   "source": [
    "#### A) Images classified as tumor"
   ]
  },
  {
   "cell_type": "code",
   "execution_count": 128,
   "metadata": {},
   "outputs": [
    {
     "data": {
      "text/plain": [
       "<matplotlib.image.AxesImage at 0x18800e6fa90>"
      ]
     },
     "execution_count": 128,
     "metadata": {},
     "output_type": "execute_result"
    },
    {
     "data": {
      "image/png": "[encoded data removed]",
      "text/plain": [
       "<Figure size 432x288 with 1 Axes>"
      ]
     },
     "metadata": {
      "needs_background": "light"
     },
     "output_type": "display_data"
    }
   ],
   "source": [
    "plt.imshow(plt.imread(\"{}\\\\test\\\\00006537328c33e284c973d7b39d340809f7271b.tif\".format(test_directory)))"
   ]
  },
  {
   "cell_type": "code",
   "execution_count": 143,
   "metadata": {},
   "outputs": [
    {
     "data": {
      "text/plain": [
       "<matplotlib.image.AxesImage at 0x188011058d0>"
      ]
     },
     "execution_count": 143,
     "metadata": {},
     "output_type": "execute_result"
    },
    {
     "data": {
      "image/png": "[encoded data removed]",
      "text/plain": [
       "<Figure size 432x288 with 1 Axes>"
      ]
     },
     "metadata": {
      "needs_background": "light"
     },
     "output_type": "display_data"
    }
   ],
   "source": [
    "plt.imshow(plt.imread(\"{}\\\\test\\\\00573153447495d2baec1c9f64e29875915994c1.tif\".format(test_directory)))"
   ]
  },
  {
   "cell_type": "markdown",
   "metadata": {},
   "source": [
    "#### B) Images classified as non-tumor"
   ]
  },
  {
   "cell_type": "code",
   "execution_count": 133,
   "metadata": {},
   "outputs": [
    {
     "data": {
      "text/plain": [
       "<matplotlib.image.AxesImage at 0x18800fc07b8>"
      ]
     },
     "execution_count": 133,
     "metadata": {},
     "output_type": "execute_result"
    },
    {
     "data": {
      "image/png": "[encoded data removed]",
      "text/plain": [
       "<Figure size 432x288 with 1 Axes>"
      ]
     },
     "metadata": {
      "needs_background": "light"
     },
     "output_type": "display_data"
    }
   ],
   "source": [
    "plt.imshow(plt.imread(\"{}\\\\test\\\\fffdd1cbb1ac0800f65309f344dd15e9331e1c53.tif\".format(test_directory)))"
   ]
  },
  {
   "cell_type": "code",
   "execution_count": 144,
   "metadata": {},
   "outputs": [
    {
     "data": {
      "text/plain": [
       "<matplotlib.image.AxesImage at 0x18801156630>"
      ]
     },
     "execution_count": 144,
     "metadata": {},
     "output_type": "execute_result"
    },
    {
     "data": {
      "image/png": "[encoded data removed]",
      "text/plain": [
       "<Figure size 432x288 with 1 Axes>"
      ]
     },
     "metadata": {
      "needs_background": "light"
     },
     "output_type": "display_data"
    }
   ],
   "source": [
    "plt.imshow(plt.imread(\"{}\\\\test\\\\000c8db3e09f1c0f3652117cf84d78aae100e5a7.tif\".format(test_directory)))"
   ]
  },
  {
   "cell_type": "code",
   "execution_count": null,
   "metadata": {},
   "outputs": [],
   "source": []
  }
 ],
 "metadata": {
  "kernelspec": {
   "display_name": "Python 3",
   "language": "python",
   "name": "python3"
  },
  "language_info": {
   "codemirror_mode": {
    "name": "ipython",
    "version": 3
   },
   "file_extension": ".py",
   "mimetype": "text/x-python",
   "name": "python",
   "nbconvert_exporter": "python",
   "pygments_lexer": "ipython3",
   "version": "3.6.6"
  }
 },
 "nbformat": 4,
 "nbformat_minor": 2
}
